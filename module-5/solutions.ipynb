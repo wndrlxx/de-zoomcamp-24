{
 "cells": [
  {
   "cell_type": "code",
   "execution_count": 163,
   "id": "f1a171a5-1629-4c0f-8084-29df35c62eb9",
   "metadata": {},
   "outputs": [],
   "source": [
    "import pyspark\n",
    "from pyspark.sql import SparkSession\n",
    "\n",
    "spark = SparkSession.builder \\\n",
    "         .master('local[*]') \\\n",
    "         .appName('test') \\\n",
    "         .getOrCreate()"
   ]
  },
  {
   "cell_type": "markdown",
   "id": "e2489b1a-d169-424c-8f86-670d5334a6fd",
   "metadata": {},
   "source": [
    "### Solution 2"
   ]
  },
  {
   "cell_type": "markdown",
   "id": "03b70a30-ec65-43ad-ad1f-5e69b81a4633",
   "metadata": {},
   "source": [
    "What is the average size of the Parquet (ending with .parquet extension) Files that were created (in MB)?"
   ]
  },
  {
   "cell_type": "code",
   "execution_count": 164,
   "id": "248c3d71-746c-49af-91fc-6b50fadaa3d8",
   "metadata": {},
   "outputs": [],
   "source": [
    "from pyspark.sql import types"
   ]
  },
  {
   "cell_type": "code",
   "execution_count": 165,
   "id": "61cb0ef5-3636-4983-85f9-e7820570deeb",
   "metadata": {},
   "outputs": [],
   "source": [
    "schema = types.StructType([\n",
    "    types.StructField('dispatching_base_num', types.StringType(), True),\n",
    "    types.StructField('pickup_datetime', types.TimestampType(), True),\n",
    "    types.StructField('dropOff_datetime', types.TimestampType(), True),\n",
    "    types.StructField('PUlocationID', types.IntegerType(), True),\n",
    "    types.StructField('DOlocationID', types.IntegerType(), True),\n",
    "    types.StructField('SR_Flag', types.StringType(), True),\n",
    "    types.StructField('Affiliated_base_number', types.StringType(), True)\n",
    "])"
   ]
  },
  {
   "cell_type": "code",
   "execution_count": 166,
   "id": "79a5a83b-8862-4e2a-85f0-b9f0774882be",
   "metadata": {},
   "outputs": [],
   "source": [
    "df = spark.read \\\n",
    "     .option('header', 'true') \\\n",
    "     .schema(schema) \\\n",
    "     .csv('fhv_tripdata_2019-10.csv')"
   ]
  },
  {
   "cell_type": "code",
   "execution_count": 167,
   "id": "22ce263a-7ddf-446e-9e38-a8fe2037cbab",
   "metadata": {},
   "outputs": [],
   "source": [
    "df = df.repartition(6)"
   ]
  },
  {
   "cell_type": "code",
   "execution_count": 168,
   "id": "6eb230cb-1c98-470d-bf56-89af50914fcb",
   "metadata": {},
   "outputs": [
    {
     "name": "stderr",
     "output_type": "stream",
     "text": [
      "                                                                                \r"
     ]
    }
   ],
   "source": [
    "df.write.parquet('fhv/2019/10', mode='overwrite')"
   ]
  },
  {
   "cell_type": "code",
   "execution_count": 178,
   "id": "89b6afcb-0514-4585-b07b-253bcb3f3984",
   "metadata": {},
   "outputs": [
    {
     "name": "stdout",
     "output_type": "stream",
     "text": [
      "6.0M fhv/2019/10/part-00000-211fe1ac-f980-4040-b535-a1d60f67d967-c000.snappy.parquet\n",
      "6.0M fhv/2019/10/part-00001-211fe1ac-f980-4040-b535-a1d60f67d967-c000.snappy.parquet\n",
      "6.0M fhv/2019/10/part-00002-211fe1ac-f980-4040-b535-a1d60f67d967-c000.snappy.parquet\n",
      "6.0M fhv/2019/10/part-00003-211fe1ac-f980-4040-b535-a1d60f67d967-c000.snappy.parquet\n",
      "6.0M fhv/2019/10/part-00004-211fe1ac-f980-4040-b535-a1d60f67d967-c000.snappy.parquet\n",
      "6.0M fhv/2019/10/part-00005-211fe1ac-f980-4040-b535-a1d60f67d967-c000.snappy.parquet\n"
     ]
    }
   ],
   "source": [
    "%ls -lh fhv/2019/10/*.parquet | awk '{print $5, $9}'"
   ]
  },
  {
   "cell_type": "markdown",
   "id": "1357ebfc-807a-4483-b214-ea1fd7f0bef1",
   "metadata": {},
   "source": [
    "### Solution 3"
   ]
  },
  {
   "cell_type": "markdown",
   "id": "f107d1fe-b7f9-40d8-9272-47e62848ab3b",
   "metadata": {},
   "source": [
    "How many taxi trips were there on the 15th of October?"
   ]
  },
  {
   "cell_type": "code",
   "execution_count": 170,
   "id": "e987588e-a78b-4a71-bd66-8ceabf183c6a",
   "metadata": {},
   "outputs": [],
   "source": [
    "from pyspark.sql.functions import *"
   ]
  },
  {
   "cell_type": "code",
   "execution_count": 171,
   "id": "a1eceb9c-fbae-4820-8c8b-7e6e9758d244",
   "metadata": {},
   "outputs": [],
   "source": [
    "df = df.withColumn('pickup_date', to_date(df.pickup_datetime)) \\\n",
    "       .withColumn('dropOff_date', to_date(df.dropOff_datetime))"
   ]
  },
  {
   "cell_type": "code",
   "execution_count": 172,
   "id": "caf9f159-e332-436e-8b12-58fc251b07f1",
   "metadata": {},
   "outputs": [
    {
     "name": "stderr",
     "output_type": "stream",
     "text": [
      "                                                                                \r"
     ]
    },
    {
     "data": {
      "text/plain": [
       "62610"
      ]
     },
     "execution_count": 172,
     "metadata": {},
     "output_type": "execute_result"
    }
   ],
   "source": [
    "df.filter(df.pickup_date == lit('2019-10-15')) \\\n",
    "  .count()"
   ]
  },
  {
   "cell_type": "markdown",
   "id": "7e96e975-f389-46f2-8423-312892a785cc",
   "metadata": {},
   "source": [
    "### Solution 4"
   ]
  },
  {
   "cell_type": "markdown",
   "id": "6cec71da-7ec8-46f0-ab2f-3887f635b39a",
   "metadata": {},
   "source": [
    "What is the length of the longest trip in the dataset in hours?"
   ]
  },
  {
   "cell_type": "code",
   "execution_count": 173,
   "id": "62c46c4b-ae1c-4279-8aca-d095e5d32ad9",
   "metadata": {},
   "outputs": [],
   "source": [
    "df = df.withColumn(\n",
    "    \"trip_duration_hours\",\n",
    "    round(\n",
    "        (to_unix_timestamp(\"dropOff_datetime\") - to_unix_timestamp(\"pickup_datetime\"))\n",
    "        / 3600,\n",
    "        2,\n",
    "    ),\n",
    ")"
   ]
  },
  {
   "cell_type": "code",
   "execution_count": 174,
   "id": "3a707a9d-1068-41f8-9319-0a1ab80148df",
   "metadata": {},
   "outputs": [
    {
     "name": "stderr",
     "output_type": "stream",
     "text": [
      "[Stage 244:=======>                                                 (1 + 7) / 8]\r"
     ]
    },
    {
     "name": "stdout",
     "output_type": "stream",
     "text": [
      "+------------------------+\n",
      "|max(trip_duration_hours)|\n",
      "+------------------------+\n",
      "|                631152.5|\n",
      "+------------------------+\n",
      "\n"
     ]
    },
    {
     "name": "stderr",
     "output_type": "stream",
     "text": [
      "                                                                                \r"
     ]
    }
   ],
   "source": [
    "df.select(max(col(\"trip_duration_hours\"))) \\\n",
    "  .show()"
   ]
  },
  {
   "cell_type": "markdown",
   "id": "dd1b8fd2-0f97-47a8-8e6e-51f16ae72496",
   "metadata": {},
   "source": [
    "### Solution 6"
   ]
  },
  {
   "cell_type": "markdown",
   "id": "20c5e3ad-4b21-4454-8763-f29c2fa77707",
   "metadata": {},
   "source": [
    "Using the zone lookup data and the FHV October 2019 data, what is the name of the LEAST frequent pickup location Zone?"
   ]
  },
  {
   "cell_type": "markdown",
   "id": "a35b1148-8362-47b6-8837-a5c95c47f7c4",
   "metadata": {},
   "source": [
    "#### Spark SQL Solution"
   ]
  },
  {
   "cell_type": "code",
   "execution_count": 154,
   "id": "f6be43f8-c5eb-4c19-bf71-cb5c780c552a",
   "metadata": {},
   "outputs": [],
   "source": [
    "df.createOrReplaceTempView('fhv_tripdata_2019_10')"
   ]
  },
  {
   "cell_type": "code",
   "execution_count": 155,
   "id": "951b7e65-693e-4e02-83b3-1923f3198ab6",
   "metadata": {},
   "outputs": [],
   "source": [
    "df_fhv_pu_location_count = spark.sql(\"\"\"\n",
    "SELECT\n",
    "    PUlocationID AS LocationID,\n",
    "    COUNT(*) AS count_per_location\n",
    "FROM\n",
    "    fhv_tripdata_2019_10\n",
    "GROUP BY\n",
    "    PUlocationID\n",
    "ORDER BY\n",
    "    count_per_location\n",
    "\"\"\")"
   ]
  },
  {
   "cell_type": "code",
   "execution_count": 156,
   "id": "b57a058d-a5ec-4111-855f-2708aa8fef0d",
   "metadata": {},
   "outputs": [],
   "source": [
    "df_fhv_pu_location_count.createOrReplaceTempView('fhv_pu_location_count')"
   ]
  },
  {
   "cell_type": "code",
   "execution_count": 157,
   "id": "049cf7e7-8a5f-48f9-84af-78cd8d88b826",
   "metadata": {},
   "outputs": [],
   "source": [
    "df_zones = spark.read \\\n",
    "                .option('header', 'true') \\\n",
    "                .csv('taxi+_zone_lookup.csv')"
   ]
  },
  {
   "cell_type": "code",
   "execution_count": 158,
   "id": "05a8e6d3-64fc-49f0-ac82-9dd954b61ce3",
   "metadata": {},
   "outputs": [],
   "source": [
    "df_zones.createOrReplaceTempView('zones')"
   ]
  },
  {
   "cell_type": "code",
   "execution_count": 159,
   "id": "476f9bf3-1ed4-4872-b0ad-9dacb0ecc029",
   "metadata": {},
   "outputs": [
    {
     "name": "stdout",
     "output_type": "stream",
     "text": [
      "+-----------+------------------+\n",
      "|       Zone|count_per_location|\n",
      "+-----------+------------------+\n",
      "|Jamaica Bay|                 1|\n",
      "+-----------+------------------+\n",
      "\n"
     ]
    }
   ],
   "source": [
    "spark.sql(\"\"\"\n",
    "SELECT\n",
    "  Zone,\n",
    "  count_per_location\n",
    "FROM\n",
    "  zones\n",
    "JOIN\n",
    "  fhv_pu_location_count\n",
    "USING (LocationID)\n",
    "ORDER BY\n",
    "    count_per_location\n",
    "LIMIT\n",
    "    1\n",
    "\"\"\").show()"
   ]
  },
  {
   "cell_type": "markdown",
   "id": "b4cab4c6-aaa5-46d1-bdd9-5f055a567299",
   "metadata": {},
   "source": [
    "#### DataFrame API Solution"
   ]
  },
  {
   "cell_type": "code",
   "execution_count": 160,
   "id": "d5b2b95f-ada2-4f51-bdb5-6db290d05179",
   "metadata": {},
   "outputs": [],
   "source": [
    "df_fhv_pu_location_count = df.groupBy('PUlocationID') \\\n",
    "                             .count() \\\n",
    "                             .withColumnRenamed('count', 'count_per_location') \\\n",
    "                             .sort(\"count\") \\\n",
    "                             .limit(1)"
   ]
  },
  {
   "cell_type": "code",
   "execution_count": 161,
   "id": "a6564348-a2a5-48f9-aeff-0727a7f658bb",
   "metadata": {},
   "outputs": [],
   "source": [
    "df_zones = spark.read \\\n",
    "                .option('header', 'true') \\\n",
    "                .csv('taxi+_zone_lookup.csv')"
   ]
  },
  {
   "cell_type": "code",
   "execution_count": 162,
   "id": "5c477d3d-ff65-43ad-88e5-ed956052feb1",
   "metadata": {},
   "outputs": [
    {
     "name": "stdout",
     "output_type": "stream",
     "text": [
      "+-----------+------------------+\n",
      "|       Zone|count_per_location|\n",
      "+-----------+------------------+\n",
      "|Jamaica Bay|                 1|\n",
      "+-----------+------------------+\n",
      "\n"
     ]
    }
   ],
   "source": [
    "df_fhv_pu_location_count.join(df_zones, df.PUlocationID == df_zones.LocationID) \\\n",
    "                        .select('Zone', 'count_per_location') \\\n",
    "                        .show()"
   ]
  }
 ],
 "metadata": {
  "kernelspec": {
   "display_name": "Python 3 (ipykernel)",
   "language": "python",
   "name": "python3"
  },
  "language_info": {
   "codemirror_mode": {
    "name": "ipython",
    "version": 3
   },
   "file_extension": ".py",
   "mimetype": "text/x-python",
   "name": "python",
   "nbconvert_exporter": "python",
   "pygments_lexer": "ipython3",
   "version": "3.11.1"
  }
 },
 "nbformat": 4,
 "nbformat_minor": 5
}
